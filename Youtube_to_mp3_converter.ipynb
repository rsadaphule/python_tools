{
  "nbformat": 4,
  "nbformat_minor": 0,
  "metadata": {
    "colab": {
      "provenance": [],
      "authorship_tag": "ABX9TyMeadbw6bAYgcFOWH4CZx3Q",
      "include_colab_link": true
    },
    "kernelspec": {
      "name": "python3",
      "display_name": "Python 3"
    },
    "language_info": {
      "name": "python"
    }
  },
  "cells": [
    {
      "cell_type": "markdown",
      "metadata": {
        "id": "view-in-github",
        "colab_type": "text"
      },
      "source": [
        "<a href=\"https://colab.research.google.com/github/rsadaphule/python_tools/blob/main/Youtube_to_mp3_converter.ipynb\" target=\"_parent\"><img src=\"https://colab.research.google.com/assets/colab-badge.svg\" alt=\"Open In Colab\"/></a>"
      ]
    },
    {
      "cell_type": "code",
      "source": [
        "!pip install pytube moviepy\n"
      ],
      "metadata": {
        "colab": {
          "base_uri": "https://localhost:8080/"
        },
        "id": "6ajSpAGpRNrj",
        "outputId": "9e832b11-562e-45f1-821e-3723e1d2a396"
      },
      "execution_count": 13,
      "outputs": [
        {
          "output_type": "stream",
          "name": "stdout",
          "text": [
            "Collecting pytube\n",
            "  Downloading pytube-15.0.0-py3-none-any.whl (57 kB)\n",
            "\u001b[?25l     \u001b[90m━━━━━━━━━━━━━━━━━━━━━━━━━━━━━━━━━━━━━━━━\u001b[0m \u001b[32m0.0/57.6 kB\u001b[0m \u001b[31m?\u001b[0m eta \u001b[36m-:--:--\u001b[0m\r\u001b[2K     \u001b[90m━━━━━━━━━━━━━━━━━━━━━━━━━━━━━━━━━━━━━━━━\u001b[0m \u001b[32m57.6/57.6 kB\u001b[0m \u001b[31m1.8 MB/s\u001b[0m eta \u001b[36m0:00:00\u001b[0m\n",
            "\u001b[?25hRequirement already satisfied: moviepy in /usr/local/lib/python3.10/dist-packages (1.0.3)\n",
            "Requirement already satisfied: decorator<5.0,>=4.0.2 in /usr/local/lib/python3.10/dist-packages (from moviepy) (4.4.2)\n",
            "Requirement already satisfied: tqdm<5.0,>=4.11.2 in /usr/local/lib/python3.10/dist-packages (from moviepy) (4.66.1)\n",
            "Requirement already satisfied: requests<3.0,>=2.8.1 in /usr/local/lib/python3.10/dist-packages (from moviepy) (2.31.0)\n",
            "Requirement already satisfied: proglog<=1.0.0 in /usr/local/lib/python3.10/dist-packages (from moviepy) (0.1.10)\n",
            "Requirement already satisfied: numpy>=1.17.3 in /usr/local/lib/python3.10/dist-packages (from moviepy) (1.23.5)\n",
            "Requirement already satisfied: imageio<3.0,>=2.5 in /usr/local/lib/python3.10/dist-packages (from moviepy) (2.31.6)\n",
            "Requirement already satisfied: imageio-ffmpeg>=0.2.0 in /usr/local/lib/python3.10/dist-packages (from moviepy) (0.4.9)\n",
            "Requirement already satisfied: pillow<10.1.0,>=8.3.2 in /usr/local/lib/python3.10/dist-packages (from imageio<3.0,>=2.5->moviepy) (9.4.0)\n",
            "Requirement already satisfied: setuptools in /usr/local/lib/python3.10/dist-packages (from imageio-ffmpeg>=0.2.0->moviepy) (67.7.2)\n",
            "Requirement already satisfied: charset-normalizer<4,>=2 in /usr/local/lib/python3.10/dist-packages (from requests<3.0,>=2.8.1->moviepy) (3.3.2)\n",
            "Requirement already satisfied: idna<4,>=2.5 in /usr/local/lib/python3.10/dist-packages (from requests<3.0,>=2.8.1->moviepy) (3.6)\n",
            "Requirement already satisfied: urllib3<3,>=1.21.1 in /usr/local/lib/python3.10/dist-packages (from requests<3.0,>=2.8.1->moviepy) (2.0.7)\n",
            "Requirement already satisfied: certifi>=2017.4.17 in /usr/local/lib/python3.10/dist-packages (from requests<3.0,>=2.8.1->moviepy) (2023.11.17)\n",
            "Installing collected packages: pytube\n",
            "Successfully installed pytube-15.0.0\n"
          ]
        }
      ]
    },
    {
      "cell_type": "code",
      "source": [
        "from pytube import YouTube\n",
        "from moviepy.editor import *\n",
        "\n",
        "def download_video(url, output_path='.'):\n",
        "    # Use pytube to download the video\n",
        "    yt = YouTube(url)\n",
        "    video = yt.streams.filter(only_audio=True).first()\n",
        "\n",
        "    # Download the video to a file\n",
        "    out_file = video.download(output_path=output_path)\n",
        "\n",
        "    # Set up new filename for the MP3\n",
        "    new_file = out_file.replace(\".mp4\", \".mp3\")\n",
        "\n",
        "    # Use moviepy to convert video audio to mp3\n",
        "    video_clip = AudioFileClip(out_file)\n",
        "    video_clip.write_audiofile(new_file)\n",
        "\n",
        "    # Remove the original video file\n",
        "    os.remove(out_file)\n",
        "\n",
        "    return new_file  # Return the path to the new file\n",
        "\n",
        "# Use the function to download and convert a video\n",
        "mp3_file = download_video('https://youtube.com/shorts/n_6YPvWcFLA?si=VDi2cPakjRHkLuEb')  # Replace with your YouTube URL\n",
        "print(f\"Downloaded and converted to MP3: {mp3_file}\")"
      ],
      "metadata": {
        "colab": {
          "base_uri": "https://localhost:8080/"
        },
        "id": "zC0-0XERSlHq",
        "outputId": "08218ad1-9fbf-4406-b0cc-4473368a5589"
      },
      "execution_count": 15,
      "outputs": [
        {
          "output_type": "stream",
          "name": "stderr",
          "text": [
            "chunk:  78%|███████▊  | 32413/41410 [01:28<00:16, 555.22it/s, now=None]"
          ]
        },
        {
          "output_type": "stream",
          "name": "stdout",
          "text": [
            "MoviePy - Writing audio in /content/./Funny baby reaction on the beach  shorts.mp3\n"
          ]
        },
        {
          "output_type": "stream",
          "name": "stderr",
          "text": [
            "\n",
            "chunk:   0%|          | 0/527 [00:00<?, ?it/s, now=None]\u001b[A\n",
            "chunk:  18%|█▊        | 97/527 [00:00<00:00, 949.79it/s, now=None]\u001b[A\n",
            "chunk:  36%|███▋      | 192/527 [00:00<00:00, 725.90it/s, now=None]\u001b[A\n",
            "chunk:  51%|█████     | 268/527 [00:00<00:00, 675.68it/s, now=None]\u001b[A\n",
            "chunk:  64%|██████▍   | 338/527 [00:00<00:00, 666.48it/s, now=None]\u001b[A\n",
            "chunk:  77%|███████▋  | 406/527 [00:00<00:00, 663.03it/s, now=None]\u001b[A\n",
            "chunk:  90%|████████▉ | 473/527 [00:00<00:00, 643.59it/s, now=None]\u001b[A\n",
            "chunk:  78%|███████▊  | 32413/41410 [01:29<00:16, 555.22it/s, now=None]"
          ]
        },
        {
          "output_type": "stream",
          "name": "stdout",
          "text": [
            "MoviePy - Done.\n",
            "Downloaded and converted to MP3: /content/./Funny baby reaction on the beach  shorts.mp3\n"
          ]
        }
      ]
    },
    {
      "cell_type": "code",
      "source": [],
      "metadata": {
        "id": "H0b-jsKqSsXh"
      },
      "execution_count": null,
      "outputs": []
    }
  ]
}